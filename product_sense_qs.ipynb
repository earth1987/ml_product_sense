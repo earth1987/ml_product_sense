{
 "cells": [
  {
   "cell_type": "markdown",
   "id": "a9d49e01-5ba7-4f70-85ec-7d20717b1b7e",
   "metadata": {},
   "source": [
    "# Product sense tips"
   ]
  },
  {
   "cell_type": "markdown",
   "id": "1e3382c7-cecc-45e6-b23b-e03e16d88612",
   "metadata": {},
   "source": [
    "# Product sense questions"
   ]
  },
  {
   "cell_type": "markdown",
   "id": "e7b28daa-6f2d-4d84-92a0-589385c666c9",
   "metadata": {},
   "source": [
    "### 1. Imagine the social graphs for both Facebook and Twitter. How do they differ? What metrics would you use to measure how these social graphs differ?"
   ]
  },
  {
   "cell_type": "markdown",
   "id": "b07a5f34-464d-4f91-af0d-9b6ffb021dd2",
   "metadata": {},
   "source": [
    "### 2. Why does surge pricing exist? What metrics would you track to ensure that surge pricing was working effectively?"
   ]
  },
  {
   "cell_type": "markdown",
   "id": "7de91afe-cf80-4bb7-a84f-5dfc91f009d7",
   "metadata": {},
   "source": [
    "### 3. What factors might make A/B testing metrics on the Airbnb platform difficult?"
   ]
  },
  {
   "cell_type": "markdown",
   "id": "74eb8acd-87be-4a21-a35a-ba724c0d8174",
   "metadata": {},
   "source": [
    "### 4. We currently play the Mozilla foundation 9 figures per year for Google to be the default search engine on Firefox. The deal is being renegotiated, and Mozilla is now asking for twice the money. Should we take the deal? How would you estimate the upper bound on what Google should be willing to pay?"
   ]
  },
  {
   "cell_type": "markdown",
   "id": "7fc4bd3b-71da-4389-a443-b666ff65cd7b",
   "metadata": {},
   "source": [
    "### 5. Assume you were on LinkedIn's Feed. What metrics would you use to track engagement? What product ideas do you have to improve these engagement metrics?"
   ]
  },
  {
   "cell_type": "markdown",
   "id": "259437bd-268a-4d25-9e43-aa5f36deca02",
   "metadata": {},
   "source": [
    "### 6. Your team is trying to figure out whether a new rider app with extra UI features would increase the number of rides taken. For an A/B test, how would you split users and ensure that your tests have balanced groups?"
   ]
  },
  {
   "cell_type": "markdown",
   "id": "f9290b47-aed8-4c2e-9bb2-7293c55966dd",
   "metadata": {},
   "source": [
    "### 7. If you were to plot the average revenue per seller on the Amazon marketplace, what would the shape of the distribution look like?"
   ]
  },
  {
   "cell_type": "markdown",
   "id": "5e10ca5f-7420-4e7b-9a65-e75629f82a92",
   "metadata": {},
   "source": [
    "### 8. Beside posts Facebook is legally obligated to remove, what other types of posts should Facebook take down? What features would you use to identify these posts? What are the trade-offs that need to be considered when removing these posts?"
   ]
  },
  {
   "cell_type": "markdown",
   "id": "ab518425-cdea-43a9-98a8-af1033c51665",
   "metadata": {},
   "source": [
    "### 9. The Amazon books team finds that books with more complete author profiles sell more. A tean implements a feature which scrapes Wikipedia and Goodreads to automatically fill in more information about authors, hopeing to see an improvement in sales. However, sales don't change - why might this be?"
   ]
  },
  {
   "cell_type": "markdown",
   "id": "1c9dc93d-fbfc-48d1-b52a-301c10b8bdd6",
   "metadata": {},
   "source": [
    "### 10. Snapchat saw an overall 5% decrease in daily active users, a trend that had been consistent over the week. How would you go about determining the root cause of this?"
   ]
  },
  {
   "cell_type": "markdown",
   "id": "9f41b7e7-22cd-4ab0-be66-42545ad5d861",
   "metadata": {},
   "source": [
    "### 11. Say you ship a new search ranking algorithm on Pinterest. What metrics would you use to measure the impact of this change?"
   ]
  },
  {
   "cell_type": "markdown",
   "id": "90f14d97-ee75-4f27-866f-92e6624aeb89",
   "metadata": {},
   "source": [
    "### 12. Say a given category, such as sci-fi TV shows, has less total watch time, compared to other similar categories. What metrics would you look into to determine if the problem is that people aren't interestd in that category of content (demand problem), or if the category has interest but the content is bad (supply problem)?"
   ]
  },
  {
   "cell_type": "markdown",
   "id": "498550cd-505e-4086-89c9-635a85d502d3",
   "metadata": {},
   "source": [
    "### 13. Say you have data on millions of Apple customers and their purchases made at physical Apple retail stores. How could customer segmentation analysis increase a store's sales performance? What techniques would you use to segment brick & mortar customers into different groups?"
   ]
  },
  {
   "cell_type": "markdown",
   "id": "32cb4413-67bb-4dc5-bc75-ff4f1dfbf4e2",
   "metadata": {},
   "source": [
    "### 14. If 70% of Facebook users on iOS also use Instagram, but only 50% of Facebook users on Android also use Instagram, how would you go about identifying the underlying reasons for this discrepency in usage?"
   ]
  },
  {
   "cell_type": "markdown",
   "id": "f11fd332-0320-404a-b825-3134f5db2eba",
   "metadata": {},
   "source": [
    "### 15. How would you assess the stickiness of the Capital One Quicksilver credit card?"
   ]
  },
  {
   "cell_type": "markdown",
   "id": "d9353120-313d-4d86-b022-f06d51a1a1cb",
   "metadata": {},
   "source": [
    "### 16. Say you worked on YouTube Premium, which is an add free version of YouTube bundled with YouTube Music (a streaming service). You're launching the product in a few new countries - how would you determine pricing for each country?"
   ]
  },
  {
   "cell_type": "markdown",
   "id": "45886fa9-112c-46e4-801c-bdfc546118d5",
   "metadata": {},
   "source": [
    "### 17. Should twitter add Facebook-style emoji reactions (love, haha, sad, angry, etc.) to tweets?"
   ]
  },
  {
   "cell_type": "markdown",
   "id": "8aad9df9-55dd-43ec-b371-a5642286b8e8",
   "metadata": {},
   "source": [
    "### 18. What metrics would you use to measure user engagement at Slack? How would you be able to tell early whether or not user engagement was declining?"
   ]
  }
 ],
 "metadata": {
  "kernelspec": {
   "display_name": "nl2vis",
   "language": "python",
   "name": "nl2vis"
  },
  "language_info": {
   "codemirror_mode": {
    "name": "ipython",
    "version": 3
   },
   "file_extension": ".py",
   "mimetype": "text/x-python",
   "name": "python",
   "nbconvert_exporter": "python",
   "pygments_lexer": "ipython3",
   "version": "3.10.12"
  }
 },
 "nbformat": 4,
 "nbformat_minor": 5
}
