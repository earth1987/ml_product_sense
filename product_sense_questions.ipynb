{
 "cells": [
  {
   "cell_type": "markdown",
   "id": "a9d49e01-5ba7-4f70-85ec-7d20717b1b7e",
   "metadata": {},
   "source": [
    "# Product sense questions"
   ]
  },
  {
   "cell_type": "markdown",
   "id": "49f49e53-e7b1-42e7-9c95-184397318c50",
   "metadata": {},
   "source": [
    "## Tips"
   ]
  },
  {
   "cell_type": "markdown",
   "id": "c6488df1-73c2-42f2-9c01-3b0245213746",
   "metadata": {},
   "source": [
    "### Key topics\n",
    "1. *Defining a product metric*\n",
    "* What metric would you use to measure success?\n",
    "* What metric would you use to validate a hypothesis?\n",
    "\n",
    "2. *Diagnosing a metric change*\n",
    "* How do you investigate the root cause of a metric change?\n",
    "* How do you handle metric trade-offs? E.g. A metric and its counter metric changed at the same time.\n",
    "   \n",
    "3. *Brain storming product features*\n",
    "* Should a new product/feature be launched?\n",
    "* How would you improve a feature/metric?\n",
    "   \n",
    "5. *Designing A/B tests*\n",
    "* How would you set-up an A/B test to measure success?\n",
    "* Explain common pitfalls and solutions"
   ]
  },
  {
   "cell_type": "markdown",
   "id": "66c2e530-f47b-43ef-83b3-9320fda72b22",
   "metadata": {},
   "source": [
    "----------------------------------------------------------------"
   ]
  },
  {
   "cell_type": "markdown",
   "id": "1b623286-3766-4791-89a8-f64ba65702af",
   "metadata": {},
   "source": [
    "### Basic prep\n",
    "\n",
    "**Research**\n",
    "\n",
    "*i. Business model*\n",
    "* How does the business monetize?\n",
    "* What's the customer lifecycle?\n",
    "\n",
    "*ii. Metrics*\n",
    "* What KPIs are usually used by such a business?\n",
    "* What factors and variables influence these metrics?\n",
    "\n",
    "*iii. Landscape*\n",
    "* How does the business/product fit into the industry?\n",
    "    * What companies does it compete with?\n",
    "    * What companies does it partner with?\n",
    "    * Differences in features etc.\n",
    " \n",
    "**Interview tips**\n",
    "\n",
    "*i. Ask clarifying questions*\n",
    "* Confirm end users and user flow\n",
    "* Confirm product/business goals the problem addresses\n",
    "\n",
    "*ii. Establish problem boundaries*\n",
    "* Scope the problem\n",
    "* Explain what you'll ignore given the timeframe\n",
    "\n",
    "*iii. Keep goals forefront*\n",
    "* Don't get lost in technical details"
   ]
  },
  {
   "cell_type": "markdown",
   "id": "42ed02be-efed-495f-aa46-e745d2aaf309",
   "metadata": {},
   "source": [
    "---------------------------------------------------------------------"
   ]
  },
  {
   "cell_type": "markdown",
   "id": "e0763eb9-82e6-4af0-a2b6-bb17dcae0a12",
   "metadata": {},
   "source": [
    "### Common metrics\n",
    "* Use a conceptual model as a framework for the user/customer lifecycle\n",
    "  \n",
    "***AARRR \"pirate\" model***\n",
    "\n",
    "    1. Acquisition\n",
    "    2. Activation\n",
    "    3. Engagement & Retention\n",
    "    4. Referral\n",
    "    5. Revenue\n",
    " \n",
    "***1. Acquisition metrics***\n",
    "\n",
    "Are users finding and trying out the service/product?\n",
    "\n",
    "* Website visitors\n",
    "* New downloads\n",
    "* Sign-up conversion rates (i.e. % of above who sign-up/create account)\n",
    "* Customer acquisition costs (CAC)\n",
    "\n",
    "***2. Activation metrics***\n",
    "\n",
    "Are new users experiencing the core value of the product/service?\n",
    "\n",
    "* % new users who make their first purchase\n",
    "* % new users who view *n* posts\n",
    "\n",
    "***3. Engagement & retention***\n",
    "\n",
    "How often do users engage and how well?\n",
    "\n",
    "* Unique users vs. time (e.g. daily active users, monthly active useres...)\n",
    "* Unique users who took a core action vs. time\n",
    "* Time spent\n",
    "\n",
    "Are users repeatedly using a product/service over a prolonged period of time?\n",
    "\n",
    "* Monthly retention\n",
    "* Monthly churn\n",
    "\n",
    "Note: Most businesses focus on retention as acquiring new customers is more costly.\n",
    "\n",
    "***4. Referral***\n",
    "\n",
    "Quantify virality?\n",
    "\n",
    "* k-factor: avg no. of referrals per user * avg conversion rate for referrals\n",
    "\n",
    "Note: A k-factor above 1 indicates exponential growth\n",
    "\n",
    "\n",
    "***5. Revenue***\n",
    "\n",
    "Earlier stages might also monitor revenue.\n",
    "\n",
    "* Lifetime value per customer (LTV)\n",
    "* LTV:CAC ratio"
   ]
  },
  {
   "cell_type": "markdown",
   "id": "9a6c4358-915c-4cd6-9b67-d566871553b6",
   "metadata": {},
   "source": [
    "--------------------------------------------------------------------"
   ]
  },
  {
   "cell_type": "markdown",
   "id": "ecd2a5de-395f-4dca-9e71-44732bf24adc",
   "metadata": {},
   "source": [
    "### Bad metrics\n",
    "\n",
    "    1. Irrelevant metrics\n",
    "    2. Impractical metrics\n",
    "    3. Complicated metrics\n",
    "\n",
    "***1. Irrelevant metrics***\n",
    "* Not tied to the business goal\n",
    "\n",
    "***2. Impractical metrics***\n",
    "* Difficult to measure\n",
    "* Downstream success metrics over long time periods - do not help identify problems early\n",
    "\n",
    "***3. Complicated metrics***\n",
    "* Not easy to explain to stakeholders\n",
    "* If it changes in value, it's not easy to work out why\n"
   ]
  },
  {
   "cell_type": "markdown",
   "id": "d42ecc6e-47dc-4497-b8d0-c9780760cbb2",
   "metadata": {},
   "source": [
    "------------------------------------------------------------"
   ]
  },
  {
   "cell_type": "markdown",
   "id": "a4a25072-d3a8-471f-9163-503fd0af00e1",
   "metadata": {},
   "source": [
    "### Defining metrics\n",
    "\n",
    "Framework:\n",
    "\n",
    "    1. Confirm product & purpose\n",
    "    2. Explain product & business goals\n",
    "    3. Define success metrics\n",
    "\n",
    "***1. Confirm product & purpose***\n",
    "* How does the product work? What service does it provide?\n",
    "* Where is it being launched?\n",
    "* What demographic is it aimed at?\n",
    "\n",
    "***2. Explain product & business goals***\n",
    "* What is the product's goal? E.g. Revenue or engagement\n",
    "* How does the product tie in with the company mission?\n",
    "\n",
    "***3. Define success metrics***\n",
    "* Use a customer lifecycle framework (e.g. AARRR)\n",
    "* Tie metrics to the product and company goals\n",
    "\n",
    "  Note: Revenue via sales, memberships subscriptions or ads isn't always a priority at launch - large companies can take a long-term approach to monetization and focus on acquisition and retention first."
   ]
  },
  {
   "cell_type": "markdown",
   "id": "854f26c4-aa58-4b85-85ef-0ea6c30dd8c7",
   "metadata": {},
   "source": [
    "----------------------------------------------------------------"
   ]
  },
  {
   "cell_type": "markdown",
   "id": "bf225e56-ae8e-4953-a5d5-cb24314b4596",
   "metadata": {},
   "source": [
    "### Diagnosing metric changes\n",
    "\n",
    "Framework\n",
    "\n",
    "    1. Scope out the metric change\n",
    "    2. Hypothesise contributing factors\n",
    "    3. Validate contributing factors\n",
    "    4. Classify each factor\n",
    "\n",
    "\n",
    "***1. Scope out the metric change***\n",
    "\n",
    "a. *Metric definition*\n",
    "* What does it measure?\n",
    "* Is it a proportional metric? If so, did the numerator or denominator change?\n",
    "\n",
    "b. *Time frame*\n",
    "* Is this a sudden change or an ongoing trend?\n",
    "* Over what time frame has the trend occured?\n",
    "\n",
    "c. *Magnitude*\n",
    "* How big is the change, in both relative and absolute terms?\n",
    "* Is the change relative to last week/quarter/year?\n",
    "\n",
    "\n",
    "***2. Hypothesize contributing factors***\n",
    "\n",
    "*The key is to pick hypotheses you can validate using metrics!*\n",
    "\n",
    "a. *Error*\n",
    "* Is it real?\n",
    "* Does it reflect human behaviour or a fault with instrumentation/ reporting\n",
    "  \n",
    "b. *Natural causes*\n",
    "* Is it due to seasonality?\n",
    "* Is this change expected on a particular holiday or day of the week?\n",
    "\n",
    "c. *External changes*\n",
    "* Competitors launching new products\n",
    "* Pandemic\n",
    "* Recession\n",
    "* Inflation\n",
    "\n",
    "d. *Internal changes*\n",
    "* Walk up the user funnel:\n",
    "  * Acquisition: New marketing campaign\n",
    "  * Activation: UI changes, bug fixes\n",
    "  * Engagement: New feature launch\n",
    "  * Retention: New featurs, bug fixes\n",
    "  * Referral: New incentives\n",
    "  * Revenue: Price change\n",
    "\n",
    "\n",
    "***3. Validate contributing factors***\n",
    "\n",
    "*Explain how you'd validate each hypothesis (i.e. what metrics you'd look at)!*\n",
    "\n",
    "* Use the user funnel to zoom out until you find a cause\n",
    "* Prioritise hypotheses based on product sense and product research\n",
    "* Give an indication of how you would slice the data (i.e. date & time/demographics/user type -new/old etc.)\n",
    "\n",
    "\n",
    "***4. Classify contributing factors***\n",
    "\n",
    "Allocate each of the factors to the following categories:\n",
    "\n",
    "a. *Root cause*\n",
    "* Root of the metric change\n",
    "\n",
    "b. *Contributing factor*\n",
    "* Contributes to the root cause\n",
    "\n",
    "c. *Correlated result*\n",
    "* Symptom of the root cause but not a contributing factor\n",
    "\n",
    "d. *Unrelated factor*\n",
    "* Factors unrelated to the metric change"
   ]
  },
  {
   "cell_type": "markdown",
   "id": "7fc7894c-b8d6-49ca-8cb9-14db26722735",
   "metadata": {},
   "source": [
    "---------------------------------------------------------------"
   ]
  },
  {
   "cell_type": "markdown",
   "id": "b2953aed-0a89-4ab4-9471-ed5b6189a9b8",
   "metadata": {},
   "source": [
    "### Assessing metric trade-offs\n",
    "\n",
    "Framework:\n",
    "\n",
    "        1. Scope out the metrics\n",
    "        2. Establish product & business goals\n",
    "        3. Make a decision\n",
    "\n",
    "***1. Scope out the metrics***\n",
    "\n",
    "a. *Metric definitions*\n",
    "* What do they measure?\n",
    "* Are they proportional metrics?\n",
    "\n",
    "b. *Time frame*\n",
    "* Is this a sudden change or an ongoing trend?\n",
    "* Over what time frame has the trend occured?\n",
    "\n",
    "c. *Magnitude*\n",
    "* How big is the change, in both relative and absolute terms?\n",
    "* Is the change relative to last week/quarter/year?\n",
    "\n",
    "***2. Establish product & business goals***\n",
    "* Draw on product & company research\n",
    "* Which metric is more important to the product & business goals?\n",
    "\n",
    "***3. Make a decision***\n",
    "\n",
    "    i. Revert the feature change\n",
    "    ii. Minimise the trade-off's impact by brainstorming a new product feature\n",
    "    iii. Accept the trade-off as justified"
   ]
  },
  {
   "cell_type": "markdown",
   "id": "f1a91e0d-060a-4274-a0f7-a0516bc49059",
   "metadata": {},
   "source": [
    "--------------------------------------------"
   ]
  },
  {
   "cell_type": "markdown",
   "id": "5b103816-91a3-4cf3-9313-f6e38c55ac62",
   "metadata": {},
   "source": [
    "### A/B testing\n",
    "\n",
    "* A user experience research methodology\n",
    "* A randomized experiment where alternate versions of a feature are shown to a sample of different users to determine which variant is most effective"
   ]
  },
  {
   "cell_type": "markdown",
   "id": "a54918eb-d488-48c1-9094-7ec1c36e696a",
   "metadata": {},
   "source": [
    "#### Mathematics\n",
    "\n",
    "* A/B testing involves statistical hypothesis testing\n",
    "\n",
    "**1. Hypothesis testing**\n",
    "\n",
    "    i. Choose a null hypothesis, alternative hypothesis & significance level\n",
    "    ii. Choose a test statistic & calculate a p-value\n",
    "    iii. Compare the p-value to a significance level\n",
    "\n",
    "**2. Test statistics**\n",
    "\n",
    "* The choice assumes the parameter of interest follows a specific sampling distribution\n",
    "  \n",
    "        i. Z-Test\n",
    "  * Assumes the test statistic\n",
    "\n",
    "        ii. t-Test\n",
    "\n",
    "        iii. Chi-Squared Test\n",
    "\n",
    "**3. Population proportions**\n",
    "\n",
    "\n",
    "**4. P-Values & confidence intervals**\n",
    "\n"
   ]
  },
  {
   "cell_type": "markdown",
   "id": "10a805ec-472b-4e76-baaf-562c8feaa0ab",
   "metadata": {},
   "source": [
    "#### Experimental design\n",
    "\n",
    "Four main steps:\n",
    "\n",
    "    i. Pick a metric to test\n",
    "    ii. Define thresholds\n",
    "    iii. Decide on sample size and experiment length\n",
    "    iv. Assign groups"
   ]
  },
  {
   "cell_type": "markdown",
   "id": "eefe8296-ad07-4539-a496-a862961bec28",
   "metadata": {},
   "source": [
    "#### Real-world testing considerations\n",
    "\n",
    "***When not to A/B test***\n",
    "\n",
    "    i. Lack of infrastructure\n",
    "    ii. Lack of impact\n",
    "    iii. Lack of traffic\n",
    "    iv. Lack of conviction\n",
    "    v. Lack of isolation\n",
    "\n",
    "***Alternatives to A/B testing***\n",
    "\n",
    "In the above scenarios, consider the following:\n",
    "\n",
    "    i. Research users experience via focus groups\n",
    "    ii. Analyse user activity logs\n",
    "    iii. Make the change & run a retrospective analysis on a pre-selected metric\n",
    "\n",
    "***Dealing with non-Normality***\n",
    "\n",
    "    i. Bootstrapping\n",
    "    ii. Run alternative tests\n",
    "    iv. Gather more data\n",
    "\n",
    "***Accounting for the multiple testing problem***\n",
    "\n",
    "    i. Bonferroni correction\n",
    "    ii. Family-wise error rate\n",
    "\n",
    "***Controlling for network effects***\n",
    "\n",
    "    i. Graph partitioning\n",
    "\n",
    "***Distinguishing primary and novelty effects***\n",
    "\n",
    "    i. Compare test results for new and old users\n",
    "\n",
    "***Consider counter arguments***\n",
    "\n",
    "Make sure the impact justifies the launch. \n",
    "\n",
    "    i. Effect size\n",
    "    ii. Counter & guard rail metrics\n",
    "    iii. Labor costs\n",
    "\n",
    "***Launch with A/B test holdouts***\n",
    "\n",
    "    "
   ]
  },
  {
   "cell_type": "markdown",
   "id": "2ab283b3-a46d-404f-9bdf-064f1fc29f7b",
   "metadata": {},
   "source": [
    "--------------------------------------------------------"
   ]
  },
  {
   "cell_type": "markdown",
   "id": "4a21ed3b-a273-45da-b0ed-1c5cbd580ffe",
   "metadata": {},
   "source": [
    "--------------------------------------------------------"
   ]
  },
  {
   "cell_type": "markdown",
   "id": "1e3382c7-cecc-45e6-b23b-e03e16d88612",
   "metadata": {},
   "source": [
    "## Questions"
   ]
  },
  {
   "cell_type": "markdown",
   "id": "e7b28daa-6f2d-4d84-92a0-589385c666c9",
   "metadata": {},
   "source": [
    "**1. Imagine the social graphs for both Facebook and Twitter. How do they differ? What metrics would you use to measure how these social graphs differ?**\n",
    "\n",
    "Source: Ace the Data Science Interview, Question 10.1"
   ]
  },
  {
   "cell_type": "markdown",
   "id": "b07a5f34-464d-4f91-af0d-9b6ffb021dd2",
   "metadata": {},
   "source": [
    "**2. Why does surge pricing exist? What metrics would you track to ensure that surge pricing was working effectively?**\n",
    "\n",
    "Source: Ace the Data Science Interview, Question 10.2"
   ]
  },
  {
   "cell_type": "markdown",
   "id": "7de91afe-cf80-4bb7-a84f-5dfc91f009d7",
   "metadata": {},
   "source": [
    "**3. What factors might make A/B testing metrics on the Airbnb platform difficult?**\n",
    "\n",
    "Source: Ace the Data Science Interview, Question 10.3"
   ]
  },
  {
   "cell_type": "markdown",
   "id": "74eb8acd-87be-4a21-a35a-ba724c0d8174",
   "metadata": {},
   "source": [
    "**4. We currently play the Mozilla foundation 9 figures per year for Google to be the default search engine on Firefox. The deal is being renegotiated, and Mozilla is now asking for twice the money. Should we take the deal? How would you estimate the upper bound on what Google should be willing to pay?**\n",
    "\n",
    "Source: Ace the Data Science Interview, Question 10.4"
   ]
  },
  {
   "cell_type": "markdown",
   "id": "7fc4bd3b-71da-4389-a443-b666ff65cd7b",
   "metadata": {},
   "source": [
    "**5. Assume you were on LinkedIn's Feed. What metrics would you use to track engagement? What product ideas do you have to improve these engagement metrics?**\n",
    "\n",
    "Source: Ace the Data Science Interview, Question 10.5"
   ]
  },
  {
   "cell_type": "markdown",
   "id": "259437bd-268a-4d25-9e43-aa5f36deca02",
   "metadata": {},
   "source": [
    "**6. Your team is trying to figure out whether a new rider app with extra UI features would increase the number of rides taken. For an A/B test, how would you split users and ensure that your tests have balanced groups?**\n",
    "\n",
    "Source: Ace the Data Science Interview, Question 10.6"
   ]
  },
  {
   "cell_type": "markdown",
   "id": "f9290b47-aed8-4c2e-9bb2-7293c55966dd",
   "metadata": {},
   "source": [
    "**7. If you were to plot the average revenue per seller on the Amazon marketplace, what would the shape of the distribution look like?**\n",
    "\n",
    "Source: Ace the Data Science Interview, Question 10.7"
   ]
  },
  {
   "cell_type": "markdown",
   "id": "5e10ca5f-7420-4e7b-9a65-e75629f82a92",
   "metadata": {},
   "source": [
    "**8. Beside posts Facebook is legally obligated to remove, what other types of posts should Facebook take down? What features would you use to identify these posts? What are the trade-offs that need to be considered when removing these posts?**\n",
    "\n",
    "Source: Ace the Data Science Interview, Question 10.8"
   ]
  },
  {
   "cell_type": "markdown",
   "id": "ab518425-cdea-43a9-98a8-af1033c51665",
   "metadata": {},
   "source": [
    "**9. The Amazon books team finds that books with more complete author profiles sell more. A tean implements a feature which scrapes Wikipedia and Goodreads to automatically fill in more information about authors, hopeing to see an improvement in sales. However, sales don't change - why might this be?**\n",
    "\n",
    "Source: Ace the Data Science Interview, Question 10.9"
   ]
  },
  {
   "cell_type": "markdown",
   "id": "1c9dc93d-fbfc-48d1-b52a-301c10b8bdd6",
   "metadata": {},
   "source": [
    "**10. Snapchat saw an overall 5% decrease in daily active users, a trend that had been consistent over the week. How would you go about determining the root cause of this?**\n",
    "\n",
    "Source: Ace the Data Science Interview, Question 10.10"
   ]
  },
  {
   "cell_type": "markdown",
   "id": "9f41b7e7-22cd-4ab0-be66-42545ad5d861",
   "metadata": {},
   "source": [
    "**11. Say you ship a new search ranking algorithm on Pinterest. What metrics would you use to measure the impact of this change?**\n",
    "\n",
    "Source: Ace the Data Science Interview, Question 10.11"
   ]
  },
  {
   "cell_type": "markdown",
   "id": "90f14d97-ee75-4f27-866f-92e6624aeb89",
   "metadata": {},
   "source": [
    "**12. Say a given category, such as sci-fi TV shows, has less total watch time, compared to other similar categories. What metrics would you look into to determine if the problem is that people aren't interestd in that category of content (demand problem), or if the category has interest but the content is bad (supply problem)?**\n",
    "\n",
    "Source: Ace the Data Science Interview, Question 10.12"
   ]
  },
  {
   "cell_type": "markdown",
   "id": "498550cd-505e-4086-89c9-635a85d502d3",
   "metadata": {},
   "source": [
    "**13. Say you have data on millions of Apple customers and their purchases made at physical Apple retail stores. How could customer segmentation analysis increase a store's sales performance? What techniques would you use to segment brick & mortar customers into different groups?**\n",
    "\n",
    "Source: Ace the Data Science Interview, Question 10.13"
   ]
  },
  {
   "cell_type": "markdown",
   "id": "32cb4413-67bb-4dc5-bc75-ff4f1dfbf4e2",
   "metadata": {},
   "source": [
    "**14. If 70% of Facebook users on iOS also use Instagram, but only 50% of Facebook users on Android also use Instagram, how would you go about identifying the underlying reasons for this discrepency in usage?**\n",
    "\n",
    "Source: Ace the Data Science Interview, Question 10.14"
   ]
  },
  {
   "cell_type": "markdown",
   "id": "f11fd332-0320-404a-b825-3134f5db2eba",
   "metadata": {},
   "source": [
    "**15. How would you assess the stickiness of the Capital One Quicksilver credit card?**\n",
    "\n",
    "Source: Ace the Data Science Interview, Question 10.15"
   ]
  },
  {
   "cell_type": "markdown",
   "id": "d9353120-313d-4d86-b022-f06d51a1a1cb",
   "metadata": {},
   "source": [
    "**16. Say you worked on YouTube Premium, which is an add free version of YouTube bundled with YouTube Music (a streaming service). You're launching the product in a few new countries - how would you determine pricing for each country?**\n",
    "\n",
    "Source: Ace the Data Science Interview, Question 10.16"
   ]
  },
  {
   "cell_type": "markdown",
   "id": "45886fa9-112c-46e4-801c-bdfc546118d5",
   "metadata": {},
   "source": [
    "**17. Should twitter add Facebook-style emoji reactions (love, haha, sad, angry, etc.) to tweets?**\n",
    "\n",
    "Source: Ace the Data Science Interview, Question 10.17"
   ]
  },
  {
   "cell_type": "markdown",
   "id": "8aad9df9-55dd-43ec-b371-a5642286b8e8",
   "metadata": {},
   "source": [
    "**18. What metrics would you use to measure user engagement at Slack? How would you be able to tell early whether or not user engagement was declining?**\n",
    "\n",
    "Source: Ace the Data Science Interview, Question 10.18"
   ]
  }
 ],
 "metadata": {
  "kernelspec": {
   "display_name": "nl2vis",
   "language": "python",
   "name": "nl2vis"
  },
  "language_info": {
   "codemirror_mode": {
    "name": "ipython",
    "version": 3
   },
   "file_extension": ".py",
   "mimetype": "text/x-python",
   "name": "python",
   "nbconvert_exporter": "python",
   "pygments_lexer": "ipython3",
   "version": "3.10.12"
  }
 },
 "nbformat": 4,
 "nbformat_minor": 5
}
